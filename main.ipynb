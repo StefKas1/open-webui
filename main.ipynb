{
 "cells": [
  {
   "cell_type": "code",
   "execution_count": 1,
   "metadata": {
    "vscode": {
     "languageId": "shellscript"
    }
   },
   "outputs": [
    {
     "name": "stdout",
     "output_type": "stream",
     "text": [
      "* minikube v1.30.1 auf Microsoft Windows 10 Pro 10.0.19045.4780 Build 19045.4780\n",
      "* Minikube 1.33.1 ist verfügbar. Lade es herunter: https://github.com/kubernetes/minikube/releases/tag/v1.33.1\n",
      "* Um diesen Hinweis zu deaktivieren, starte: 'minikube config set WantUpdateNotification false'\n",
      "\n",
      "* Verwende den Treiber hyperv basierend auf der Benutzer-Konfiguration\n",
      "* Starte Control Plane Node minikube in Cluster minikube\n",
      "* Erstelle hyperv VM (CPUs=2, Speicher=3500MB, Disk=20000MB ...\n",
      "* Vorbereiten von Kubernetes v1.26.3 auf Docker 20.10.23...\n",
      "  - Generiere Zertifikate und Schlüssel ...\n",
      "  - Starte Control-Plane ...\n",
      "  - Konfiguriere RBAC Regeln ...\n",
      "* Konfiguriere bridge CNI (Container Networking Interface) ...\n",
      "  - Verwende Image gcr.io/k8s-minikube/storage-provisioner:v5\n",
      "* Verifiziere Kubernetes Komponenten...\n",
      "* Addons aktiviert: storage-provisioner, default-storageclass\n",
      "* Fertig! kubectl ist jetzt für die standardmäßige (default) Verwendung des Clusters \"minikube und des Namespaces \"default\" konfiguriert\n"
     ]
    },
    {
     "name": "stderr",
     "output_type": "stream",
     "text": [
      "W0821 08:04:03.023569   18172 main.go:291] Unable to resolve the current Docker CLI context \"default\": context \"default\" does not exist\n"
     ]
    }
   ],
   "source": [
    "!minikube start"
   ]
  },
  {
   "cell_type": "code",
   "execution_count": 1,
   "metadata": {
    "vscode": {
     "languageId": "shellscript"
    }
   },
   "outputs": [
    {
     "name": "stdout",
     "output_type": "stream",
     "text": [
      "minikube\n",
      "type: Control Plane\n",
      "host: Running\n",
      "kubelet: Running\n",
      "apiserver: Running\n",
      "kubeconfig: Configured\n",
      "\n"
     ]
    },
    {
     "name": "stderr",
     "output_type": "stream",
     "text": [
      "W0927 13:09:33.803217   13852 main.go:291] Unable to resolve the current Docker CLI context \"default\": context \"default\" does not exist\n"
     ]
    }
   ],
   "source": [
    "!minikube status"
   ]
  },
  {
   "cell_type": "code",
   "execution_count": 10,
   "metadata": {
    "vscode": {
     "languageId": "shellscript"
    }
   },
   "outputs": [
    {
     "name": "stdout",
     "output_type": "stream",
     "text": [
      "* metrics-server is an addon maintained by Kubernetes. For any concerns contact minikube on GitHub.\n",
      "You can view the list of minikube maintainers at: https://github.com/kubernetes/minikube/blob/master/OWNERS\n",
      "  - Verwende Image registry.k8s.io/metrics-server/metrics-server:v0.6.3\n",
      "* Das Addon metrics-server ist aktiviert\n"
     ]
    },
    {
     "name": "stderr",
     "output_type": "stream",
     "text": [
      "W0927 13:15:43.973381   18132 main.go:291] Unable to resolve the current Docker CLI context \"default\": context \"default\" does not exist\n"
     ]
    }
   ],
   "source": [
    "!minikube addons enable metrics-server"
   ]
  },
  {
   "cell_type": "code",
   "execution_count": 2,
   "metadata": {
    "vscode": {
     "languageId": "shellscript"
    }
   },
   "outputs": [
    {
     "name": "stdout",
     "output_type": "stream",
     "text": [
      "\"open-webui\" has been added to your repositories\n"
     ]
    }
   ],
   "source": [
    "!helm repo add open-webui https://helm.openwebui.com/"
   ]
  },
  {
   "cell_type": "code",
   "execution_count": 3,
   "metadata": {
    "vscode": {
     "languageId": "shellscript"
    }
   },
   "outputs": [
    {
     "name": "stdout",
     "output_type": "stream",
     "text": [
      "Hang tight while we grab the latest from your chart repositories...\n",
      "...Successfully got an update from the \"open-webui\" chart repository\n",
      "...Successfully got an update from the \"bitnami\" chart repository\n",
      "Update Complete. ⎈Happy Helming!⎈\n"
     ]
    }
   ],
   "source": [
    "!helm repo update"
   ]
  },
  {
   "cell_type": "code",
   "execution_count": 5,
   "metadata": {
    "vscode": {
     "languageId": "shellscript"
    }
   },
   "outputs": [
    {
     "name": "stdout",
     "output_type": "stream",
     "text": [
      "NAME                                        \tCHART VERSION\tAPP VERSION  \tDESCRIPTION                                       \n",
      "bitnami/airflow                             \t25.0.2       \t3.0.5        \tApache Airflow is a tool to express and execute...\n",
      "bitnami/apache                              \t11.4.29      \t2.4.65       \tApache HTTP Server is an open-source HTTP serve...\n",
      "bitnami/apisix                              \t6.0.0        \t3.13.0       \tApache APISIX is high-performance, real-time AP...\n",
      "bitnami/appsmith                            \t7.0.3        \t1.85.0       \tAppsmith is an open source platform for buildin...\n",
      "bitnami/argo-cd                             \t11.0.0       \t3.1.1        \tArgo CD is a continuous delivery tool for Kuber...\n",
      "bitnami/argo-workflows                      \t13.0.6       \t3.7.1        \tArgo Workflows is meant to orchestrate Kubernet...\n",
      "bitnami/aspnet-core                         \t7.0.35       \t9.0.8        \tASP.NET Core is an open-source framework for we...\n",
      "bitnami/cadvisor                            \t0.1.13       \t0.53.0       \tcAdvisor (Container Advisor) is an open-source ...\n",
      "bitnami/cassandra                           \t12.3.11      \t5.0.5        \tApache Cassandra is an open source distributed ...\n",
      "bitnami/cert-manager                        \t1.5.14       \t1.18.2       \tcert-manager is a Kubernetes add-on to automate...\n",
      "bitnami/chainloop                           \t4.0.75       \t1.43.1       \tChainloop is an open-source Software Supply Cha...\n",
      "bitnami/cilium                              \t3.1.9        \t1.18.1       \tCilium is an eBPF-based networking, observabili...\n",
      "bitnami/clickhouse                          \t9.4.4        \t25.7.5       \tClickHouse is an open-source column-oriented OL...\n",
      "bitnami/clickhouse-operator                 \t0.2.33       \t0.25.3       \tClickHouse Operator is a production-ready opera...\n",
      "bitnami/cloudnative-pg                      \t1.0.11       \t1.26.1       \tCloudNativePG is an open-source tool for managi...\n",
      "bitnami/common                              \t2.31.4       \t2.31.4       \tA Library Helm Chart for grouping common logic ...\n",
      "bitnami/concourse                           \t5.1.45       \t7.13.2       \tConcourse is an automation system written in Go...\n",
      "bitnami/consul                              \t11.4.32      \t1.21.4       \tHashiCorp Consul is a tool for discovering and ...\n",
      "bitnami/contour                             \t21.1.4       \t1.32.1       \tContour is an open source Kubernetes ingress co...\n",
      "bitnami/contour-operator                    \t4.2.1        \t1.24.0       \tDEPRECATED The Contour Operator extends the Kub...\n",
      "bitnami/dataplatform-bp2                    \t12.0.5       \t1.0.1        \tDEPRECATED This Helm chart can be used for the ...\n",
      "bitnami/deepspeed                           \t2.3.50       \t0.17.5       \tDeepSpeed is deep learning software suite for e...\n",
      "bitnami/discourse                           \t17.0.1       \t3.5.0        \tDiscourse is an open source discussion platform...\n",
      "bitnami/dokuwiki                            \t16.2.11      \t20240206.1.0 \tDEPRECATED DokuWiki is a standards-compliant wi...\n",
      "bitnami/dremio                              \t3.0.13       \t26.0.0       \tDremio is an open-source self-service data acce...\n",
      "bitnami/drupal                              \t23.0.0       \t11.2.3       \tDrupal is one of the most versatile open source...\n",
      "bitnami/ejbca                               \t19.0.0       \t9.1.1        \tEJBCA is an enterprise class PKI Certificate Au...\n",
      "bitnami/elasticsearch                       \t22.1.6       \t9.1.2        \tElasticsearch is a distributed search and analy...\n",
      "bitnami/envoy-gateway                       \t2.0.4        \t1.5.0        \tEnvoy Gateway simplifies traffic management by ...\n",
      "bitnami/etcd                                \t12.0.18      \t3.6.4        \tetcd is a distributed key-value store designed ...\n",
      "bitnami/external-dns                        \t9.0.3        \t0.18.0       \tExternalDNS is a Kubernetes addon that configur...\n",
      "bitnami/flink                               \t2.0.7        \t2.1.0        \tApache Flink is a framework and distributed pro...\n",
      "bitnami/fluent-bit                          \t3.1.13       \t4.0.8        \tFluent Bit is a Fast and Lightweight Log Proces...\n",
      "bitnami/fluentd                             \t7.2.5        \t1.19.0       \tFluentd collects events from various data sourc...\n",
      "bitnami/flux                                \t2.4.36       \t1.6.2        \tSource Controller is a component of Flux. Flux ...\n",
      "bitnami/geode                               \t1.1.8        \t1.15.1       \tDEPRECATED Apache Geode is a data management pl...\n",
      "bitnami/ghost                               \t25.0.4       \t6.0.5        \tGhost is an open source publishing platform des...\n",
      "bitnami/gitea                               \t3.2.22       \t1.24.5       \tGitea is a lightweight code hosting solution. W...\n",
      "bitnami/gitlab-runner                       \t1.1.8        \t18.3.0       \tGitlab Runner is an auxiliary application for G...\n",
      "bitnami/grafana                             \t12.1.8       \t12.1.1       \tGrafana is an open source metric analytics and ...\n",
      "bitnami/grafana-alloy                       \t1.0.7        \t1.10.2       \tGrafana Alloy is an open source OpenTelemetry C...\n",
      "bitnami/grafana-k6-operator                 \t1.0.11       \t0.0.23       \tGrafana k6 Operator is a Kubernetes operator th...\n",
      "bitnami/grafana-loki                        \t6.0.6        \t3.5.3        \tGrafana Loki is a horizontally scalable, highly...\n",
      "bitnami/grafana-mimir                       \t3.0.18       \t2.17.0       \tGrafana Mimir is an open source, horizontally s...\n",
      "bitnami/grafana-operator                    \t4.9.37       \t5.19.4       \tGrafana Operator is a Kubernetes operator that ...\n",
      "bitnami/grafana-tempo                       \t4.0.17       \t2.8.2        \tGrafana Tempo is a distributed tracing system t...\n",
      "bitnami/haproxy                             \t2.2.34       \t3.2.4        \tHAProxy is a TCP proxy and a HTTP reverse proxy...\n",
      "bitnami/haproxy-intel                       \t0.2.11       \t2.7.1        \tDEPRECATED HAProxy for Intel is a high-performa...\n",
      "bitnami/harbor                              \t27.0.3       \t2.13.2       \tHarbor is an open source trusted cloud-native r...\n",
      "bitnami/influxdb                            \t7.1.20       \t3.4.1        \tInfluxDB(TM) Core is an open source time-series...\n",
      "bitnami/jaeger                              \t6.0.5        \t2.9.0        \tJaeger is a distributed tracing system. It is u...\n",
      "bitnami/janusgraph                          \t1.4.10       \t1.1.0        \tJanusGraph is a scalable graph database optimiz...\n",
      "bitnami/jasperreports                       \t18.2.5       \t8.2.0        \tDEPRECATED JasperReports Server is a stand-alon...\n",
      "bitnami/jenkins                             \t13.6.17      \t2.516.2      \tJenkins is an open source Continuous Integratio...\n",
      "bitnami/joomla                              \t20.0.4       \t5.1.2        \tDEPRECATED Joomla! is an award winning open sou...\n",
      "bitnami/jupyterhub                          \t10.0.5       \t5.3.0        \tJupyterHub brings the power of notebooks to gro...\n",
      "bitnami/kafka                               \t32.4.3       \t4.0.0        \tApache Kafka is a distributed streaming platfor...\n",
      "bitnami/keycloak                            \t25.2.0       \t26.3.3       \tKeycloak is a high performance Java-based ident...\n",
      "bitnami/keydb                               \t0.5.22       \t6.3.4        \tKeyDB is a high performance fork of Redis with ...\n",
      "bitnami/kiam                                \t2.3.16       \t4.2.0        \tkiam is a proxy that captures AWS Metadata API ...\n",
      "bitnami/kibana                              \t12.1.10      \t9.1.2        \tKibana is an open source, browser based analyti...\n",
      "bitnami/kong                                \t15.4.22      \t3.9.1        \tKong is an open source Microservice API gateway...\n",
      "bitnami/kube-arangodb                       \t0.1.23       \t1.3.0        \tkube-arangodb is a Kubernetes Operator that man...\n",
      "bitnami/kube-prometheus                     \t11.3.10      \t0.85.0       \tPrometheus Operator provides easy monitoring de...\n",
      "bitnami/kube-state-metrics                  \t5.1.0        \t2.16.0       \tkube-state-metrics is a simple service that lis...\n",
      "bitnami/kubeapps                            \t18.0.1       \t2.12.1       \tDEPRECATED Kubeapps is a web-based UI for launc...\n",
      "bitnami/kuberay                             \t1.4.29       \t1.4.2        \tKubeRay is a Kubernetes operator for deploying ...\n",
      "bitnami/kubernetes-event-exporter           \t3.6.3        \t1.7.0        \tKubernetes Event Exporter makes it easy to expo...\n",
      "bitnami/logstash                            \t7.0.11       \t9.1.2        \tLogstash is an open source data processing engi...\n",
      "bitnami/magento                             \t28.0.5       \t2.4.7        \tDEPRECATED Magento is a powerful open source e-...\n",
      "bitnami/mariadb                             \t22.0.0       \t12.0.2       \tMariaDB is an open source, community-developed ...\n",
      "bitnami/mariadb-galera                      \t16.0.1       \t12.0.2       \tMariaDB Galera is a multi-primary database clus...\n",
      "bitnami/mastodon                            \t14.0.0       \t4.4.3        \tMastodon is self-hosted social network server b...\n",
      "bitnami/matomo                              \t11.0.0       \t5.3.2        \tMatomo, formerly known as Piwik, is a real time...\n",
      "bitnami/mediawiki                           \t21.0.5       \t1.42.1       \tDEPRECATED MediaWiki is the free and open sourc...\n",
      "bitnami/memcached                           \t7.9.7        \t1.6.39       \tMemcached is an high-performance, distributed m...\n",
      "bitnami/metallb                             \t6.4.22       \t0.15.2       \tMetalLB is a load-balancer implementation for b...\n",
      "bitnami/metrics-server                      \t7.4.12       \t0.8.0        \tMetrics Server aggregates resource usage data, ...\n",
      "bitnami/milvus                              \t16.0.1       \t2.6.0        \tMilvus is a cloud-native, open-source vector da...\n",
      "bitnami/minio                               \t17.0.21      \t2025.7.23    \tMinIO(R) is an object storage server, compatibl...\n",
      "bitnami/minio-operator                      \t0.2.9        \t7.1.1        \tMinIO(R) Operator is a Kubernetes-native tool f...\n",
      "bitnami/mlflow                              \t5.1.17       \t3.3.2        \tMLflow is an open-source platform designed to m...\n",
      "bitnami/mongodb                             \t16.5.45      \t8.0.13       \tMongoDB(R) is a relational open source NoSQL da...\n",
      "bitnami/mongodb-sharded                     \t9.4.12       \t8.0.13       \tMongoDB(R) is an open source NoSQL database tha...\n",
      "bitnami/moodle                              \t28.0.0       \t5.0.2        \tMoodle(TM) LMS is an open source online Learnin...\n",
      "bitnami/multus-cni                          \t2.2.21       \t4.2.2        \tMultus is a CNI plugin for Kubernetes clusters....\n",
      "bitnami/mxnet                               \t3.5.2        \t1.9.1        \tDEPRECATED Apache MXNet (Incubating) is a flexi...\n",
      "bitnami/mysql                               \t14.0.3       \t9.4.0        \tMySQL is a fast, reliable, scalable, and easy t...\n",
      "bitnami/nats                                \t9.0.28       \t2.11.8       \tNATS is an open source, lightweight and high-pe...\n",
      "bitnami/neo4j                               \t0.4.14       \t5.26.11      \tNeo4j is a high performance graph store with al...\n",
      "bitnami/nessie                              \t2.0.34       \t0.104.10     \tNessie is an open-source version control system...\n",
      "bitnami/nginx                               \t21.1.23      \t1.29.1       \tNGINX Open Source is a web server that can be a...\n",
      "bitnami/nginx-ingress-controller            \t12.0.7       \t1.13.1       \tNGINX Ingress Controller is an Ingress controll...\n",
      "bitnami/nginx-intel                         \t2.1.15       \t0.4.9        \tDEPRECATED NGINX Open Source for Intel is a lig...\n",
      "bitnami/node                                \t19.1.7       \t16.18.0      \tDEPRECATED Node.js is a runtime environment bui...\n",
      "bitnami/node-exporter                       \t4.5.19       \t1.9.1        \tPrometheus exporter for hardware and OS metrics...\n",
      "bitnami/oauth2-proxy                        \t8.0.2        \t7.12.0       \tA reverse proxy and static file server that pro...\n",
      "bitnami/odoo                                \t28.2.10      \t18.0.20250805\tOdoo is an open source ERP and CRM platform, fo...\n",
      "bitnami/opencart                            \t19.0.4       \t4.0.2-3      \tDEPRECATED OpenCart is free open source ecommer...\n",
      "bitnami/opensearch                          \t2.0.10       \t3.2.0        \tOpenSearch is a scalable open-source solution f...\n",
      "bitnami/osclass                             \t18.2.6       \t8.2.0        \tDEPRECATED Osclass allows you to easily create ...\n",
      "bitnami/owncloud                            \t12.2.11      \t10.11.0      \tDEPRECATED ownCloud is an open source content c...\n",
      "bitnami/parse                               \t25.1.15      \t8.2.3        \tParse is a platform that enables users to add a...\n",
      "bitnami/phpbb                               \t19.0.4       \t3.3.12       \tDEPRECATED phpBB is a popular bulletin board th...\n",
      "bitnami/phpmyadmin                          \t20.0.0       \t5.2.2        \tphpMyAdmin is a free software tool written in P...\n",
      "bitnami/pinniped                            \t2.4.23       \t0.40.0       \tPinniped is an identity service provider for Ku...\n",
      "bitnami/postgresql                          \t16.7.27      \t17.6.0       \tPostgreSQL (Postgres) is an open source object-...\n",
      "bitnami/postgresql-ha                       \t16.3.2       \t17.6.0       \tThis PostgreSQL cluster solution includes the P...\n",
      "bitnami/prestashop                          \t22.0.5       \t8.1.7        \tDEPRECATED PrestaShop is a powerful open source...\n",
      "bitnami/prometheus                          \t2.1.23       \t3.5.0        \tPrometheus is an open source monitoring and ale...\n",
      "bitnami/pytorch                             \t4.3.31       \t2.8.0        \tPyTorch is a deep learning platform that accele...\n",
      "bitnami/rabbitmq                            \t16.0.14      \t4.1.3        \tRabbitMQ is an open source general-purpose mess...\n",
      "bitnami/rabbitmq-cluster-operator           \t4.4.34       \t2.16.1       \tThe RabbitMQ Cluster Kubernetes Operator automa...\n",
      "bitnami/redis                               \t22.0.7       \t8.2.1        \tRedis(R) is an open source, advanced key-value ...\n",
      "bitnami/redis-cluster                       \t13.0.4       \t8.2.1        \tRedis(R) is an open source, scalable, distribut...\n",
      "bitnami/redmine                             \t34.0.0       \t6.0.6        \tRedmine is an open source management applicatio...\n",
      "bitnami/schema-registry                     \t26.0.5       \t8.0.0        \tConfluent Schema Registry provides a RESTful in...\n",
      "bitnami/scylladb                            \t5.0.6        \t2025.2.2     \tScyllaDB is an open-source, distributed NoSQL w...\n",
      "bitnami/sealed-secrets                      \t2.5.19       \t0.31.0       \tSealed Secrets are \"one-way\" encrypted K8s Secr...\n",
      "bitnami/seaweedfs                           \t6.0.1        \t3.96.0       \tSeaweedFS is a simple and highly scalable distr...\n",
      "bitnami/solr                                \t9.6.10       \t9.9.0        \tApache Solr is an extremely powerful, open sour...\n",
      "bitnami/sonarqube                           \t8.1.17       \t25.8.0       \tSonarQube(TM) is an open source quality managem...\n",
      "bitnami/spark                               \t10.0.3       \t4.0.0        \tApache Spark is a high-performance engine for l...\n",
      "bitnami/spring-cloud-dataflow               \t37.0.5       \t2.11.5       \tDEPRECATED Spring Cloud Data Flow is a microser...\n",
      "bitnami/suitecrm                            \t14.1.1       \t7.13.4       \tDEPRECATED SuiteCRM is a completely open source...\n",
      "bitnami/supabase                            \t5.3.6        \t1.24.7       \tDEPRECATED Supabase is an open source Firebase ...\n",
      "bitnami/superset                            \t5.0.0        \t5.0.0        \tSuperset is a modern data exploration and data ...\n",
      "bitnami/tensorflow-resnet                   \t4.3.14       \t2.19.1       \tTensorFlow ResNet is a client utility for use w...\n",
      "bitnami/thanos                              \t17.3.1       \t0.39.2       \tThanos is a highly available metrics system tha...\n",
      "bitnami/tomcat                              \t12.0.8       \t11.0.10      \tApache Tomcat is an open-source web server desi...\n",
      "bitnami/valkey                              \t3.0.31       \t8.1.3        \tValkey is an open source (BSD) high-performance...\n",
      "bitnami/valkey-cluster                      \t3.0.24       \t8.1.3        \tValkey is an open source (BSD) high-performance...\n",
      "bitnami/vault                               \t1.9.0        \t1.20.2       \tVault is a tool for securely managing and acces...\n",
      "bitnami/victoriametrics                     \t0.1.31       \t1.124.0      \tVictoriaMetrics is a fast, cost-effective, and ...\n",
      "bitnami/wavefront                           \t4.4.3        \t1.13.0       \tDEPRECATED Wavefront is a high-performance stre...\n",
      "bitnami/wavefront-adapter-for-istio         \t2.0.6        \t0.1.5        \tDEPRECATED Wavefront Adapter for Istio is an ad...\n",
      "bitnami/wavefront-hpa-adapter               \t1.5.2        \t0.9.10       \tDEPRECATED Wavefront HPA Adapter for Kubernetes...\n",
      "bitnami/wavefront-prometheus-storage-adapter\t2.3.3        \t1.0.7        \tDEPRECATED Wavefront Storage Adapter is a Prome...\n",
      "bitnami/whereabouts                         \t1.2.19       \t0.9.2        \tWhereabouts is a CNI IPAM plugin for Kubernetes...\n",
      "bitnami/wildfly                             \t25.0.0       \t37.0.0       \tWildfly is a lightweight, open source applicati...\n",
      "bitnami/wordpress                           \t26.0.0       \t6.8.2        \tWordPress is the world's most popular blogging ...\n",
      "bitnami/wordpress-intel                     \t2.1.31       \t6.1.1        \tDEPRECATED WordPress for Intel is the most popu...\n",
      "bitnami/zipkin                              \t1.3.11       \t3.5.1        \tZipkin is a distributed tracing system that hel...\n",
      "bitnami/zookeeper                           \t13.8.7       \t3.9.3        \tApache ZooKeeper provides a reliable, centraliz...\n",
      "open-webui/open-webui                       \t8.7.0        \t0.6.31       \tOpen WebUI: A User-Friendly Web Interface for C...\n",
      "open-webui/pipelines                        \t0.9.0        \talpha        \tPipelines: UI-Agnostic OpenAI API Plugin Framework\n"
     ]
    }
   ],
   "source": [
    "!helm search repo"
   ]
  },
  {
   "cell_type": "code",
   "execution_count": 4,
   "metadata": {
    "vscode": {
     "languageId": "shellscript"
    }
   },
   "outputs": [
    {
     "name": "stdout",
     "output_type": "stream",
     "text": [
      "NAME                 \tCHART VERSION\tAPP VERSION\tDESCRIPTION                                       \n",
      "open-webui/open-webui\t8.7.0        \t0.6.31     \tOpen WebUI: A User-Friendly Web Interface for C...\n",
      "open-webui/pipelines \t0.9.0        \talpha      \tPipelines: UI-Agnostic OpenAI API Plugin Framework\n"
     ]
    }
   ],
   "source": [
    "!helm search repo open-webui"
   ]
  },
  {
   "cell_type": "code",
   "execution_count": 6,
   "metadata": {
    "vscode": {
     "languageId": "shellscript"
    }
   },
   "outputs": [
    {
     "name": "stdout",
     "output_type": "stream",
     "text": [
      "NAME: my-webui\n",
      "LAST DEPLOYED: Sat Sep 27 13:12:53 2025\n",
      "NAMESPACE: default\n",
      "STATUS: deployed\n",
      "REVISION: 1\n",
      "NOTES:\n",
      "🎉 Welcome to Open WebUI!!\n",
      " ██████╗ ██████╗ ███████╗███╗   ██╗    ██╗    ██╗███████╗██████╗ ██╗   ██╗██╗\n",
      "██╔═══██╗██╔══██╗██╔════╝████╗  ██║    ██║    ██║██╔════╝██╔══██╗██║   ██║██║\n",
      "██║   ██║██████╔╝█████╗  ██╔██╗ ██║    ██║ █╗ ██║█████╗  ██████╔╝██║   ██║██║\n",
      "██║   ██║██╔═══╝ ██╔══╝  ██║╚██╗██║    ██║███╗██║██╔══╝  ██╔══██╗██║   ██║██║\n",
      "╚██████╔╝██║     ███████╗██║ ╚████║    ╚███╔███╔╝███████╗██████╔╝╚██████╔╝██║\n",
      " ╚═════╝ ╚═╝     ╚══════╝╚═╝  ╚═══╝     ╚══╝╚══╝ ╚══════╝╚═════╝  ╚═════╝ ╚═╝\n",
      "\n",
      "v0.6.31 - building the best open-source AI user interface.\n",
      " - Chart Version: v8.7.0\n",
      " - Project URL 1: https://www.openwebui.com/\n",
      " - Project URL 2: https://github.com/open-webui/open-webui\n",
      " - Documentation: https://docs.openwebui.com/\n",
      " - Chart URL: https://github.com/open-webui/helm-charts\n",
      "\n",
      "Open WebUI is a web-based user interface that works with Ollama, OpenAI, Claude 3, Gemini and more.\n",
      "This interface allows you to easily interact with local AI models.\n",
      "\n",
      "1. Deployment Information:\n",
      "  - Chart Name: open-webui\n",
      "  - Release Name: my-webui\n",
      "  - Namespace: default\n",
      "\n",
      "2. Access the Application:\n",
      "  Access via ClusterIP service:\n",
      "\n",
      "    export LOCAL_PORT=8080\n",
      "    export POD_NAME=$(kubectl get pods -n default -l \"app.kubernetes.io/component=open-webui\" -o jsonpath=\"{.items[0].metadata.name}\")\n",
      "    export CONTAINER_PORT=$(kubectl get pod -n default $POD_NAME -o jsonpath=\"{.spec.containers[0].ports[0].containerPort}\")\n",
      "    kubectl -n default port-forward $POD_NAME $LOCAL_PORT:$CONTAINER_PORT\n",
      "    echo \"Visit http://127.0.0.1:$LOCAL_PORT to use your application\"\n",
      "\n",
      "  Then, access the application at: http://127.0.0.1:$LOCAL_PORT or http://localhost:8080\n",
      "\n",
      "3. Useful Commands:\n",
      "  - Check deployment status:\n",
      "      helm status my-webui -n default\n",
      "\n",
      "  - Get detailed information:\n",
      "      helm get all my-webui -n default\n",
      "\n",
      "  - View logs:\n",
      "      kubectl logs -f statefulset/open-webui -n default\n",
      "\n",
      "4. Cleanup:\n",
      "  - Uninstall the deployment:\n",
      "      helm uninstall my-webui -n default\n"
     ]
    }
   ],
   "source": [
    "!helm install my-webui open-webui/open-webui"
   ]
  },
  {
   "cell_type": "code",
   "execution_count": 23,
   "metadata": {
    "vscode": {
     "languageId": "shellscript"
    }
   },
   "outputs": [
    {
     "name": "stdout",
     "output_type": "stream",
     "text": [
      "annotations:\n",
      "  licenses: MIT\n",
      "apiVersion: v2\n",
      "appVersion: 0.6.31\n",
      "dependencies:\n",
      "- condition: ollama.enabled\n",
      "  import-values:\n",
      "  - child: service\n",
      "    parent: ollama.service\n",
      "  name: ollama\n",
      "  repository: https://otwld.github.io/ollama-helm/\n",
      "  version: '>=0.24.0'\n",
      "- condition: pipelines.enabled\n",
      "  import-values:\n",
      "  - child: service\n",
      "    parent: pipelines.service\n",
      "  name: pipelines\n",
      "  repository: https://helm.openwebui.com\n",
      "  version: '>=0.0.1'\n",
      "- condition: tika.enabled\n",
      "  name: tika\n",
      "  repository: https://apache.jfrog.io/artifactory/tika\n",
      "  version: '>=2.9.0'\n",
      "description: \"Open WebUI: A User-Friendly Web Interface for Chat Interactions \\U0001F44B\"\n",
      "home: https://www.openwebui.com/\n",
      "icon: https://raw.githubusercontent.com/open-webui/open-webui/main/static/favicon.png\n",
      "keywords:\n",
      "- llm\n",
      "- chat\n",
      "- web-ui\n",
      "- open-webui\n",
      "name: open-webui\n",
      "sources:\n",
      "- https://github.com/open-webui/helm-charts\n",
      "- https://github.com/open-webui/open-webui/pkgs/container/open-webui\n",
      "- https://github.com/otwld/ollama-helm/\n",
      "- https://hub.docker.com/r/ollama/ollama\n",
      "version: 8.7.0\n",
      "\n"
     ]
    }
   ],
   "source": [
    "!helm show chart open-webui/open-webui"
   ]
  },
  {
   "cell_type": "code",
   "execution_count": 24,
   "metadata": {
    "vscode": {
     "languageId": "shellscript"
    }
   },
   "outputs": [
    {
     "name": "stdout",
     "output_type": "stream",
     "text": [
      "nameOverride: \"\"\n",
      "namespaceOverride: \"\"\n",
      "ollama:\n",
      "  # -- Automatically install Ollama Helm chart from https://otwld.github.io/ollama-helm/. Use [Helm Values](https://github.com/otwld/ollama-helm/#helm-values) to configure\n",
      "  enabled: true\n",
      "  # -- If enabling embedded Ollama, update fullnameOverride to your desired Ollama name value, or else it will use the default ollama.name value from the Ollama chart\n",
      "  fullnameOverride: \"open-webui-ollama\"\n",
      "  # -- Example Ollama configuration with nvidia GPU enabled, automatically downloading a model, and deploying a PVC for model persistence\n",
      "  # ollama:\n",
      "  #   gpu:\n",
      "  #     enabled: true\n",
      "  #     type: 'nvidia'\n",
      "  #     number: 1\n",
      "  #   models:\n",
      "  #     pull:\n",
      "  #       - llama3\n",
      "  #     run:\n",
      "  #       - llama3\n",
      "  # runtimeClassName: nvidia\n",
      "  # persistentVolume:\n",
      "  #   enabled: true\n",
      "  #   volumeName: \"example-pre-existing-pv-created-by-smb-csi\"\n",
      "\n",
      "pipelines:\n",
      "  # -- Automatically install Pipelines chart to extend Open WebUI functionality using Pipelines: https://github.com/open-webui/pipelines\n",
      "  enabled: true\n",
      "  # -- This section can be used to pass required environment variables to your pipelines (e.g. Langfuse hostname)\n",
      "  extraEnvVars: []\n",
      "\n",
      "tika:\n",
      "  # -- Automatically install Apache Tika to extend Open WebUI\n",
      "  enabled: false\n",
      "\n",
      "# -- A list of Ollama API endpoints. These can be added in lieu of automatically installing the Ollama Helm chart, or in addition to it.\n",
      "ollamaUrls: []\n",
      "\n",
      "# -- Disables taking Ollama Urls from `ollamaUrls`  list\n",
      "ollamaUrlsFromExtraEnv: false\n",
      "\n",
      "websocket:\n",
      "  # -- Enables websocket support in Open WebUI with env `ENABLE_WEBSOCKET_SUPPORT`\n",
      "  enabled: false\n",
      "  # -- Specifies the websocket manager to use with env `WEBSOCKET_MANAGER`: redis (default)\n",
      "  manager: redis\n",
      "  # -- Specifies the URL of the Redis instance for websocket communication. Template with `redis://[:<password>@]<hostname>:<port>/<db>`\n",
      "  url: redis://open-webui-redis:6379/0\n",
      "  # -- Node selector for websocket pods\n",
      "  nodeSelector: {}\n",
      "  # -- Deploys a redis\n",
      "  redis:\n",
      "    # -- Enable redis installation\n",
      "    enabled: true\n",
      "    # -- Redis name\n",
      "    name: open-webui-redis\n",
      "    # -- Redis labels\n",
      "    labels: {}\n",
      "    # -- Redis annotations\n",
      "    annotations: {}\n",
      "    # -- Redis pod\n",
      "    pods:\n",
      "      # -- Redis pod labels\n",
      "      labels: {}\n",
      "      # -- Redis pod annotations\n",
      "      annotations: {}\n",
      "    # -- Redis image\n",
      "    image:\n",
      "      repository: redis\n",
      "      tag: 7.4.2-alpine3.21\n",
      "      pullPolicy: IfNotPresent\n",
      "    # -- Redis command (overrides default)\n",
      "    command: []\n",
      "    # -- Redis arguments (overrides default)\n",
      "    args: []\n",
      "    # -- Redis resources\n",
      "    resources: {}\n",
      "    # -- Redis service\n",
      "    service:\n",
      "      # -- Redis container/target port\n",
      "      containerPort: 6379\n",
      "      # -- Redis service type\n",
      "      type: ClusterIP\n",
      "      # -- Redis service labels\n",
      "      labels: {}\n",
      "      # -- Redis service annotations\n",
      "      annotations: {}\n",
      "      # -- Redis service port name. Istio needs this to be something like `tcp-redis`\n",
      "      portName: http\n",
      "      # -- Redis service port\n",
      "      port: 6379\n",
      "      # -- Redis service node port. Valid only when type is `NodePort`\n",
      "      nodePort: \"\"\n",
      "    # -- Redis tolerations for pod assignment\n",
      "    tolerations: []\n",
      "\n",
      "    # -- Redis affinity for pod assignment\n",
      "    affinity: {}\n",
      "\n",
      "    # -- Redis container security context (certain specs are not allowed on a pod level), if readOnlyRootFilesystem is true, an emtpyDir will be mounted on the redis container\n",
      "    containerSecurityContext:\n",
      "      {}\n",
      "      # readOnlyRootFilesystem: true\n",
      "      # runAsNonRoot: true\n",
      "\n",
      "    # -- Redis pod security context\n",
      "    podSecurityContext:\n",
      "      {}\n",
      "      # runAsUser: 999\n",
      "      # runAsGroup: 1000\n",
      "\n",
      "# -- Value of cluster domain\n",
      "clusterDomain: cluster.local\n",
      "\n",
      "extraLabels: {}\n",
      "\n",
      "annotations: {}\n",
      "podAnnotations: {}\n",
      "podLabels: {}\n",
      "replicaCount: 1\n",
      "# -- Revision history limit for the workload manager (deployment).\n",
      "revisionHistoryLimit: 10\n",
      "# -- Priority class name for the Open WebUI pods\n",
      "priorityClassName: \"\"\n",
      "# -- Strategy for updating the workload manager: deployment or statefulset\n",
      "strategy: {}\n",
      "# -- Open WebUI image tags can be found here: https://github.com/open-webui/open-webui\n",
      "image:\n",
      "  repository: ghcr.io/open-webui/open-webui\n",
      "  tag: \"\"\n",
      "  pullPolicy: \"IfNotPresent\"\n",
      "\n",
      "# -- Open WebUI container command (overrides default entrypoint)\n",
      "command: []\n",
      "# -- Open WebUI container arguments (overrides default)\n",
      "args: []\n",
      "\n",
      "serviceAccount:\n",
      "  enable: true\n",
      "  name: \"\"\n",
      "  annotations: {}\n",
      "  automountServiceAccountToken: false\n",
      "\n",
      "# -- Configure imagePullSecrets to use private registry\n",
      "# ref: <https://kubernetes.io/docs/tasks/configure-pod-container/pull-image-private-registry>\n",
      "imagePullSecrets: []\n",
      "# imagePullSecrets:\n",
      "# - name: myRegistryKeySecretName\n",
      "\n",
      "# -- Probe for liveness of the Open WebUI container\n",
      "# ref: <https://kubernetes.io/docs/tasks/configure-pod-container/configure-liveness-readiness-startup-probes>\n",
      "livenessProbe: {}\n",
      "# livenessProbe:\n",
      "#   httpGet:\n",
      "#     path: /health\n",
      "#     port: http\n",
      "#   failureThreshold: 1\n",
      "#   periodSeconds: 10\n",
      "\n",
      "# -- Probe for readiness of the Open WebUI container\n",
      "# ref: <https://kubernetes.io/docs/tasks/configure-pod-container/configure-liveness-readiness-startup-probes>\n",
      "readinessProbe: {}\n",
      "# readinessProbe:\n",
      "#   httpGet:\n",
      "#     path: /health/db\n",
      "#     port: http\n",
      "#   failureThreshold: 1\n",
      "#   periodSeconds: 10\n",
      "\n",
      "# -- Probe for startup of the Open WebUI container\n",
      "# ref: <https://kubernetes.io/docs/tasks/configure-pod-container/configure-liveness-readiness-startup-probes>\n",
      "startupProbe: {}\n",
      "# startupProbe:\n",
      "#   httpGet:\n",
      "#     path: /health\n",
      "#     port: http\n",
      "#   initialDelaySeconds: 30\n",
      "#   periodSeconds: 5\n",
      "#   failureThreshold: 20\n",
      "\n",
      "resources: {}\n",
      "\n",
      "copyAppData:\n",
      "  # -- Open WebUI copy-app-data init container command (overrides default)\n",
      "  command: []\n",
      "  # -- Open WebUI copy-app-data init container arguments (overrides default)\n",
      "  args: []\n",
      "\n",
      "  resources: {}\n",
      "\n",
      "managedCertificate:\n",
      "  enabled: false\n",
      "  name: \"mydomain-chat-cert\" # You can override this name if needed\n",
      "  domains:\n",
      "    - chat.example.com # update to your real domain\n",
      "\n",
      "ingress:\n",
      "  enabled: false\n",
      "  class: \"\"\n",
      "  # -- Use appropriate annotations for your Ingress controller, e.g., for NGINX:\n",
      "  annotations: {}\n",
      "  #   # Example for GKE Ingress\n",
      "  #   kubernetes.io/ingress.class: \"gce\"\n",
      "  #   kubernetes.io/ingress.global-static-ip-name: \"open-webui-external-ip\"   #  you need to create this address in GCP console\n",
      "  #   # Force HTTP to redirect to HTTPS\n",
      "  #   nginx.ingress.kubernetes.io/force-ssl-redirect: \"true\"\n",
      "  #   nginx.ingress.kubernetes.io/ssl-redirect: \"true\"\n",
      "  #   nginx.ingress.kubernetes.io/permanent-redirect: \"https://chat.example.com\"\n",
      "  #   networking.gke.io/managed-certificates: \"mydomain-chat-cert\"\n",
      "  #   # nginx.ingress.kubernetes.io/rewrite-target: /\n",
      "  host: \"chat.example.com\" # update to your real domain\n",
      "  additionalHosts: []\n",
      "  tls: false\n",
      "  existingSecret: \"\"\n",
      "\n",
      "  # -- Additional custom labels to add to the Ingress metadata\n",
      "  # Useful for tagging, selecting, or applying policies to the Ingress via labels.\n",
      "  extraLabels: {}\n",
      "  # extraLabels:\n",
      "  #   app.kubernetes.io/environment: \"staging\"\n",
      "\n",
      "persistence:\n",
      "  enabled: true\n",
      "  size: 2Gi\n",
      "  # -- Use existingClaim if you want to re-use an existing Open WebUI PVC instead of creating a new one\n",
      "  existingClaim: \"\"\n",
      "  # -- Subdirectory of Open WebUI PVC to mount. Useful if root directory is not empty.\n",
      "  subPath: \"\"\n",
      "  # -- If using multiple replicas, you must update accessModes to ReadWriteMany\n",
      "  accessModes:\n",
      "    - ReadWriteOnce\n",
      "  storageClass: \"\"\n",
      "  selector: {}\n",
      "  annotations: {}\n",
      "  # -- Sets the storage provider, availables values are `local`, `s3`, `gcs` or `azure`\n",
      "  provider: local\n",
      "  s3:\n",
      "    # -- Sets the access key ID for S3 storage\n",
      "    # @section -- Amazon S3 Storage configuration\n",
      "    accessKey: \"\"\n",
      "    # -- Sets the secret access key for S3 storage (ignored if secretKeyExistingSecret is set)\n",
      "    # @section -- Amazon S3 Storage configuration\n",
      "    secretKey: \"\"\n",
      "    # -- Set the secret access key for S3 storage from existing k8s secret\n",
      "    # @section -- Amazon S3 Storage configuration\n",
      "    accessKeyExistingSecret: \"\"\n",
      "    # -- Set the secret access key for S3 storage from existing k8s secret key\n",
      "    # @section -- Amazon S3 Storage configuration\n",
      "    accessKeyExistingAccessKey: \"\"\n",
      "    # -- Set the secret key for S3 storage from existing k8s secret\n",
      "    # @section -- Amazon S3 Storage configuration\n",
      "    secretKeyExistingSecret: \"\"\n",
      "    # -- Set the secret key for S3 storage from existing k8s secret key\n",
      "    # @section -- Amazon S3 Storage configuration\n",
      "    secretKeyExistingSecretKey: \"\"\n",
      "    # -- Sets the endpoint url for S3 storage\n",
      "    # @section -- Amazon S3 Storage configuration\n",
      "    endpointUrl: \"\"\n",
      "    # -- Sets the region name for S3 storage\n",
      "    # @section -- Amazon S3 Storage configuration\n",
      "    region: \"\"\n",
      "    # -- Sets the bucket name for S3 storage\n",
      "    # @section -- Amazon S3 Storage configuration\n",
      "    bucket: \"\"\n",
      "    # -- Sets the key prefix for a S3 object\n",
      "    # @section -- Amazon S3 Storage configuration\n",
      "    keyPrefix: \"\"\n",
      "  gcs:\n",
      "    # -- Contents of Google Application Credentials JSON file (ignored if appCredentialsJsonExistingSecret is set). Optional - if not provided, credentials will be taken from the environment. User credentials if run locally and Google Metadata server if run on a Google Compute Engine. File can be generated for a service account following this guide: https://developers.google.com/workspace/guides/create-credentials#service-account\n",
      "    # @section -- Google Cloud Storage configuration\n",
      "    appCredentialsJson: \"\"\n",
      "    # -- Set the Google Application Credentials JSON file for Google Cloud Storage from existing secret\n",
      "    # @section -- Google Cloud Storage configuration\n",
      "    appCredentialsJsonExistingSecret: \"\"\n",
      "    # -- Set the Google Application Credentials JSON file for Google Cloud Storage from existing secret key\n",
      "    # @section -- Google Cloud Storage configuration\n",
      "    appCredentialsJsonExistingSecretKey: \"\"\n",
      "    # -- Sets the bucket name for Google Cloud Storage. Bucket must already exist\n",
      "    # @section -- Google Cloud Storage configuration\n",
      "    bucket: \"\"\n",
      "  azure:\n",
      "    # -- Sets the endpoint URL for Azure Storage\n",
      "    # @section -- Azure Storage configuration\n",
      "    endpointUrl: \"\"\n",
      "    # -- Sets the container name for Azure Storage\n",
      "    # @section -- Azure Storage configuration\n",
      "    container: \"\"\n",
      "    # -- Set the access key for Azure Storage (ignored if keyExistingSecret is set). Optional - if not provided, credentials will be taken from the environment. User credentials if run locally and Managed Identity if run in Azure services\n",
      "    # @section -- Azure Storage configuration\n",
      "    key: \"\"\n",
      "    # -- Set the access key for Azure Storage from existing secret\n",
      "    # @section -- Azure Storage configuration\n",
      "    keyExistingSecret: \"\"\n",
      "    # -- Set the access key for Azure Storage from existing secret key\n",
      "    # @section -- Azure Storage configuration\n",
      "    keyExistingSecretKey: \"\"\n",
      "\n",
      "# -- Node labels for pod assignment.\n",
      "nodeSelector: {}\n",
      "\n",
      "# -- Tolerations for pod assignment\n",
      "tolerations: []\n",
      "\n",
      "# -- Affinity for pod assignment\n",
      "affinity: {}\n",
      "\n",
      "# -- Topology Spread Constraints for pod assignment\n",
      "topologySpreadConstraints: []\n",
      "\n",
      "# -- HostAliases to be added to hosts-file of each container\n",
      "hostAliases: []\n",
      "\n",
      "# -- Service values to expose Open WebUI pods to cluster\n",
      "service:\n",
      "  type: ClusterIP\n",
      "  annotations: {}\n",
      "  port: 80\n",
      "  containerPort: 8080\n",
      "  nodePort: \"\"\n",
      "  labels: {}\n",
      "  loadBalancerClass: \"\"\n",
      "\n",
      "# -- Enables the use of OpenAI APIs\n",
      "enableOpenaiApi: true\n",
      "\n",
      "# -- OpenAI base API URL to use. Defaults to the Pipelines service endpoint when Pipelines are enabled, and \"https://api.openai.com/v1\" if Pipelines are not enabled and this value is blank\n",
      "openaiBaseApiUrl: \"https://api.openai.com/v1\"\n",
      "\n",
      "# -- OpenAI base API URLs to use. Overwrites the value in openaiBaseApiUrl if set\n",
      "openaiBaseApiUrls:\n",
      "  []\n",
      "  # - \"https://api.openai.com/v1\"\n",
      "  # - \"https://api.company.openai.com/v1\"\n",
      "\n",
      "# -- Configure database URL, needed to work with Postgres (example: `postgresql://<user>:<password>@<service>:<port>/<database>`), leave empty to use the default sqlite database\n",
      "databaseUrl: \"\"\n",
      "\n",
      "# -- Env vars added to the Open WebUI deployment. Most up-to-date environment variables can be found here: https://docs.openwebui.com/getting-started/env-configuration/\n",
      "extraEnvVars:\n",
      "  # -- Default API key value for Pipelines. Should be updated in a production deployment, or be changed to the required API key if not using Pipelines\n",
      "  - name: OPENAI_API_KEY\n",
      "    value: \"0p3n-w3bu!\"\n",
      "  # valueFrom:\n",
      "  #   secretKeyRef:\n",
      "  #     name: pipelines-api-key\n",
      "  #     key: api-key\n",
      "  # - name: OPENAI_API_KEY\n",
      "  #   valueFrom:\n",
      "  #     secretKeyRef:\n",
      "  #       name: openai-api-key\n",
      "  #       key: api-key\n",
      "  # - name: OLLAMA_DEBUG\n",
      "  #   value: \"1\"\n",
      "\n",
      "# -- Env vars added to the Open WebUI deployment, common across environments. Most up-to-date environment variables can be found here: https://docs.openwebui.com/getting-started/env-configuration/ (caution: environment variables defined in both `extraEnvVars` and `commonEnvVars` will result in a conflict. Avoid duplicates)\n",
      "commonEnvVars: []\n",
      "  # - name: RAG_EMBEDDING_ENGINE\n",
      "  #   value: \"openai\"\n",
      "\n",
      "# -- Env vars added from configmap or secret to the Open WebUI deployment. Most up-to-date environment variables can be found here: https://docs.openwebui.com/getting-started/env-configuration/ (caution: `extraEnvVars` will take precedence over the value from `extraEnvFrom`)\n",
      "extraEnvFrom: []\n",
      "  # - configMapRef:\n",
      "  #     name: my-config\n",
      "  # - secretRef:\n",
      "  #     name: my-secret\n",
      "\n",
      "# -- Configure runtime class\n",
      "# ref: <https://kubernetes.io/docs/concepts/containers/runtime-class/>\n",
      "runtimeClassName: \"\"\n",
      "\n",
      "# -- Configure container volume mounts\n",
      "# ref: <https://kubernetes.io/docs/tasks/configure-pod-container/configure-volume-storage/>\n",
      "volumeMounts:\n",
      "  initContainer: []\n",
      "  # - name: \"\"\n",
      "  #   mountPath: \"\"\n",
      "  container: []\n",
      "  # - name: \"\"\n",
      "  #   mountPath: \"\"\n",
      "\n",
      "# -- Additional init containers to add to the deployment/statefulset\n",
      "# ref: <https://kubernetes.io/docs/concepts/workloads/pods/init-containers/>\n",
      "extraInitContainers: []\n",
      "# - name: custom-init\n",
      "#   image: busybox:latest\n",
      "#   command: ['sh', '-c', 'echo \"Custom init container running\"']\n",
      "#   volumeMounts:\n",
      "#   - name: data\n",
      "#     mountPath: /data\n",
      "\n",
      "# -- Configure pod volumes\n",
      "# ref: <https://kubernetes.io/docs/tasks/configure-pod-container/configure-volume-storage/>\n",
      "volumes: []\n",
      "# - name: \"\"\n",
      "#   configMap:\n",
      "#     name: \"\"\n",
      "# - name: \"\"\n",
      "#   emptyDir: {}\n",
      "\n",
      "# -- Configure pod security context\n",
      "# ref: <https://kubernetes.io/docs/tasks/configure-pod-container/security-context/#set-the-security-context-for-a-container>\n",
      "podSecurityContext:\n",
      "  {}\n",
      "  # fsGroupChangePolicy: Always\n",
      "  # sysctls: []\n",
      "  # supplementalGroups: []\n",
      "  # fsGroup: 1001\n",
      "\n",
      "# -- Configure container security context\n",
      "# ref: <https://kubernetes.io/docs/tasks/configure-pod-container/security-context/#set-the-security-context-for-a-containe>\n",
      "containerSecurityContext:\n",
      "  {}\n",
      "  # runAsUser: 1001\n",
      "  # runAsGroup: 1001\n",
      "  # runAsNonRoot: true\n",
      "  # privileged: false\n",
      "  # allowPrivilegeEscalation: false\n",
      "  # readOnlyRootFilesystem: false\n",
      "  # capabilities:\n",
      "  #   drop:\n",
      "  #     - ALL\n",
      "  # seccompProfile:\n",
      "  #   type: \"RuntimeDefault\"\n",
      "\n",
      "sso:\n",
      "  # -- **Enable SSO authentication globally** must enable to use SSO authentication\n",
      "  # @section -- SSO Configuration\n",
      "  enabled: false\n",
      "  # -- Enable account creation when logging in with OAuth (distinct from regular signup)\n",
      "  # @section -- SSO Configuration\n",
      "  enableSignup: false\n",
      "  # -- Allow logging into accounts that match email from OAuth provider (considered insecure)\n",
      "  # @section -- SSO Configuration\n",
      "  mergeAccountsByEmail: false\n",
      "  # -- Enable OAuth role management through access token roles claim\n",
      "  # @section -- SSO Configuration\n",
      "  enableRoleManagement: false\n",
      "  # -- Enable OAuth group management through access token groups claim\n",
      "  # @section -- SSO Configuration\n",
      "  enableGroupManagement: false\n",
      "\n",
      "  google:\n",
      "    # -- Enable Google OAuth\n",
      "    # @section -- Google OAuth configuration\n",
      "    enabled: false\n",
      "    # -- Google OAuth client ID\n",
      "    # @section -- Google OAuth configuration\n",
      "    clientId: \"\"\n",
      "    # -- Google OAuth client secret (ignored if clientExistingSecret is set)\n",
      "    # @section -- Google OAuth configuration\n",
      "    clientSecret: \"\"\n",
      "    # -- Google OAuth client secret from existing secret\n",
      "    # @section -- Google OAuth configuration\n",
      "    clientExistingSecret: \"\"\n",
      "    # -- Google OAuth client secret key from existing secret\n",
      "    # @section -- Google OAuth configuration\n",
      "    clientExistingSecretKey: \"\"\n",
      "\n",
      "  microsoft:\n",
      "    # -- Enable Microsoft OAuth\n",
      "    # @section -- Microsoft OAuth configuration\n",
      "    enabled: false\n",
      "    # -- Microsoft OAuth client ID\n",
      "    # @section -- Microsoft OAuth configuration\n",
      "    clientId: \"\"\n",
      "    # -- Microsoft OAuth client secret (ignored if clientExistingSecret is set)\n",
      "    # @section -- Microsoft OAuth configuration\n",
      "    clientSecret: \"\"\n",
      "    # -- Microsoft OAuth client secret from existing secret\n",
      "    # @section -- Microsoft OAuth configuration\n",
      "    clientExistingSecret: \"\"\n",
      "    # -- Microsoft OAuth client secret key from existing secret\n",
      "    # @section -- Microsoft OAuth configuration\n",
      "    clientExistingSecretKey: \"\"\n",
      "    # -- Microsoft tenant ID - use 9188040d-6c67-4c5b-b112-36a304b66dad for personal accounts\n",
      "    # @section -- Microsoft OAuth configuration\n",
      "    tenantId: \"\"\n",
      "\n",
      "  github:\n",
      "    # -- Enable GitHub OAuth\n",
      "    # @section -- GitHub OAuth configuration\n",
      "    enabled: false\n",
      "    # -- GitHub OAuth client ID\n",
      "    # @section -- GitHub OAuth configuration\n",
      "    clientId: \"\"\n",
      "    # -- GitHub OAuth client secret (ignored if clientExistingSecret is set)\n",
      "    # @section -- GitHub OAuth configuration\n",
      "    clientSecret: \"\"\n",
      "    # -- GitHub OAuth client secret from existing secret\n",
      "    # @section -- GitHub OAuth configuration\n",
      "    clientExistingSecret: \"\"\n",
      "    # -- GitHub OAuth client secret key from existing secret\n",
      "    # @section -- GitHub OAuth configuration\n",
      "    clientExistingSecretKey: \"\"\n",
      "\n",
      "  oidc:\n",
      "    # -- Enable OIDC authentication\n",
      "    # @section -- OIDC configuration\n",
      "    enabled: false\n",
      "    # -- OIDC client ID\n",
      "    # @section -- OIDC configuration\n",
      "    clientId: \"\"\n",
      "    # -- OIDC client secret (ignored if clientExistingSecret is set)\n",
      "    # @section -- OIDC configuration\n",
      "    clientSecret: \"\"\n",
      "    # -- OICD client secret from existing secret\n",
      "    # @section -- OIDC configuration\n",
      "    clientExistingSecret: \"\"\n",
      "    # -- OIDC client secret key from existing secret\n",
      "    # @section -- OIDC configuration\n",
      "    clientExistingSecretKey: \"\"\n",
      "    # -- OIDC provider well known URL\n",
      "    # @section -- OIDC configuration\n",
      "    providerUrl: \"\"\n",
      "    # -- Name of the provider to show on the UI\n",
      "    # @section -- OIDC configuration\n",
      "    providerName: \"SSO\"\n",
      "    # -- Scopes to request (space-separated).\n",
      "    # @section -- OIDC configuration\n",
      "    scopes: \"openid email profile\"\n",
      "\n",
      "  roleManagement:\n",
      "    # -- The claim that contains the roles (can be nested, e.g., user.roles)\n",
      "    # @section -- Role management configuration\n",
      "    rolesClaim: \"roles\"\n",
      "    # -- Comma-separated list of roles allowed to log in (receive open webui role user)\n",
      "    # @section -- Role management configuration\n",
      "    allowedRoles: \"\"\n",
      "    # -- Comma-separated list of roles allowed to log in as admin (receive open webui role admin)\n",
      "    # @section -- Role management configuration\n",
      "    adminRoles: \"\"\n",
      "\n",
      "  groupManagement:\n",
      "    # -- The claim that contains the groups (can be nested, e.g., user.memberOf)\n",
      "    # @section -- SSO Configuration\n",
      "    groupsClaim: \"groups\"\n",
      "\n",
      "  trustedHeader:\n",
      "    # -- Enable trusted header authentication\n",
      "    # @section -- SSO trusted header authentication\n",
      "    enabled: false\n",
      "    # -- Header containing the user's email address\n",
      "    # @section -- SSO trusted header authentication\n",
      "    emailHeader: \"\"\n",
      "    # -- Header containing the user's name (optional, used for new user creation)\n",
      "    # @section -- SSO trusted header authentication\n",
      "    nameHeader: \"\"\n",
      "\n",
      "# -- Extra resources to deploy with Open WebUI\n",
      "extraResources:\n",
      "  []\n",
      "  # - apiVersion: v1\n",
      "  #   kind: ConfigMap\n",
      "  #   metadata:\n",
      "  #     name: example-configmap\n",
      "  #   data:\n",
      "  #     example-key: example-value\n",
      "\n",
      "# Configure Application logging levels (see. https://docs.openwebui.com/getting-started/advanced-topics/logging#-logging-levels-explained)\n",
      "logging:\n",
      "  # -- Set the global log level [\"notset\", \"debug\", \"info\" (default), \"warning\", \"error\", \"critical\"]\n",
      "  # @section -- Logging configuration\n",
      "  level: \"\"\n",
      "\n",
      "  # Optional granularity: override log levels per subsystem/component\n",
      "  # if not set, it will use the global level (see. https://docs.openwebui.com/getting-started/advanced-topics/logging#%EF%B8%8F-appbackend-specific-logging-levels)\n",
      "  components:\n",
      "    # -- Set the log level for the Audio processing component\n",
      "    # @section -- Logging configuration\n",
      "    audio: \"\"\n",
      "    # -- Set the log level for the ComfyUI Integration component\n",
      "    # @section -- Logging configuration\n",
      "    comfyui: \"\"\n",
      "    # -- Set the log level for the Configuration Management component\n",
      "    # @section -- Logging configuration\n",
      "    config: \"\"\n",
      "    # -- Set the log level for the Database Operations (Peewee) component\n",
      "    # @section -- Logging configuration\n",
      "    db: \"\"\n",
      "    # -- Set the log level for the Image Generation component\n",
      "    # @section -- Logging configuration\n",
      "    images: \"\"\n",
      "    # -- Set the log level for the Main Application Execution component\n",
      "    # @section -- Logging configuration\n",
      "    main: \"\"\n",
      "    # -- Set the log level for the Model Management component\n",
      "    # @section -- Logging configuration\n",
      "    models: \"\"\n",
      "    # -- Set the log level for the Ollama Backend Integration component\n",
      "    # @section -- Logging configuration\n",
      "    ollama: \"\"\n",
      "    # -- Set the log level for the OpenAI API Integration component\n",
      "    # @section -- Logging configuration\n",
      "    openai: \"\"\n",
      "    # -- Set the log level for the Retrieval-Augmented Generation (RAG) component\n",
      "    # @section -- Logging configuration\n",
      "    rag: \"\"\n",
      "    # -- Set the log level for the Authentication Webhook component\n",
      "    # @section -- Logging configuration\n",
      "    webhook: \"\"\n",
      "\n"
     ]
    }
   ],
   "source": [
    "!helm show values open-webui/open-webui"
   ]
  },
  {
   "cell_type": "code",
   "execution_count": 11,
   "metadata": {
    "vscode": {
     "languageId": "shellscript"
    }
   },
   "outputs": [
    {
     "name": "stdout",
     "output_type": "stream",
     "text": [
      "NAME                                    READY   STATUS    RESTARTS   AGE\n",
      "open-webui-0                            1/1     Running   0          98m\n",
      "open-webui-ollama-b7dfb7b48-kk2gg       1/1     Running   0          98m\n",
      "open-webui-pipelines-8657945559-9pv9h   1/1     Running   0          98m\n"
     ]
    }
   ],
   "source": [
    "!kubectl get pods"
   ]
  },
  {
   "cell_type": "code",
   "execution_count": 14,
   "metadata": {
    "vscode": {
     "languageId": "shellscript"
    }
   },
   "outputs": [
    {
     "name": "stdout",
     "output_type": "stream",
     "text": [
      "NAME                   TYPE        CLUSTER-IP       EXTERNAL-IP   PORT(S)     AGE\n",
      "kubernetes             ClusterIP   10.96.0.1        <none>        443/TCP     112m\n",
      "open-webui             ClusterIP   10.107.35.144    <none>        80/TCP      100m\n",
      "open-webui-ollama      ClusterIP   10.108.228.207   <none>        11434/TCP   100m\n",
      "open-webui-pipelines   ClusterIP   10.106.67.107    <none>        9099/TCP    100m\n"
     ]
    }
   ],
   "source": [
    "!kubectl get services"
   ]
  },
  {
   "cell_type": "code",
   "execution_count": null,
   "metadata": {
    "vscode": {
     "languageId": "shellscript"
    }
   },
   "outputs": [
    {
     "name": "stdout",
     "output_type": "stream",
     "text": [
      "* Service default/open-webui hat keinen Node Port\n"
     ]
    },
    {
     "name": "stderr",
     "output_type": "stream",
     "text": [
      "W0927 14:55:18.588710    5672 main.go:291] Unable to resolve the current Docker CLI context \"default\": context \"default\" does not exist\n"
     ]
    }
   ],
   "source": [
    "!minikube service open-webui --url"
   ]
  },
  {
   "cell_type": "code",
   "execution_count": null,
   "metadata": {
    "vscode": {
     "languageId": "shellscript"
    }
   },
   "outputs": [
    {
     "name": "stderr",
     "output_type": "stream",
     "text": [
      "error: Service 'open-webui' does not have a named port '#'\n"
     ]
    }
   ],
   "source": [
    "!kubectl port-forward svc/open-webui 8080:80 # Run this in separate terminal; access web UI at http://localhost:8080"
   ]
  },
  {
   "cell_type": "code",
   "execution_count": 22,
   "metadata": {
    "vscode": {
     "languageId": "shellscript"
    }
   },
   "outputs": [
    {
     "name": "stdout",
     "output_type": "stream",
     "text": [
      "^C\n"
     ]
    }
   ],
   "source": [
    "!minikube dashboard"
   ]
  },
  {
   "cell_type": "code",
   "execution_count": 25,
   "metadata": {
    "vscode": {
     "languageId": "shellscript"
    }
   },
   "outputs": [
    {
     "name": "stdout",
     "output_type": "stream",
     "text": [
      "* Stoppe Node \"minikube\" ...\n",
      "* minikube\" wird über SSH ausgeschaltet...\n",
      "* minikube\" in hyperv wird gelöscht...\n",
      "* Alle Spuren des \"minikube\" Clusters wurden entfernt.\n",
      "* Alle Profile erfolgreich gelöscht\n"
     ]
    },
    {
     "name": "stderr",
     "output_type": "stream",
     "text": [
      "W0927 15:13:01.118784   13600 main.go:291] Unable to resolve the current Docker CLI context \"default\": context \"default\" does not exist\n"
     ]
    }
   ],
   "source": [
    "!minikube delete --all"
   ]
  },
  {
   "cell_type": "code",
   "execution_count": null,
   "metadata": {
    "vscode": {
     "languageId": "shellscript"
    }
   },
   "outputs": [],
   "source": []
  }
 ],
 "metadata": {
  "kernelspec": {
   "display_name": "Python 3",
   "language": "python",
   "name": "python3"
  },
  "language_info": {
   "codemirror_mode": {
    "name": "ipython",
    "version": 3
   },
   "file_extension": ".py",
   "mimetype": "text/x-python",
   "name": "python",
   "nbconvert_exporter": "python",
   "pygments_lexer": "ipython3",
   "version": "3.11.3"
  }
 },
 "nbformat": 4,
 "nbformat_minor": 2
}
